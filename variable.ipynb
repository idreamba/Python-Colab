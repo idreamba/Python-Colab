{
  "nbformat": 4,
  "nbformat_minor": 0,
  "metadata": {
    "colab": {
      "name": "test.ipynb",
      "provenance": [],
      "collapsed_sections": [],
      "toc_visible": true,
      "authorship_tag": "ABX9TyMYJfXsrZjZb6OxDOKIaOvN",
      "include_colab_link": true
    },
    "kernelspec": {
      "name": "python3",
      "display_name": "Python 3"
    }
  },
  "cells": [
    {
      "cell_type": "markdown",
      "metadata": {
        "id": "view-in-github",
        "colab_type": "text"
      },
      "source": [
        "<a href=\"https://colab.research.google.com/github/idreamba/pythoncolab/blob/master/variable.ipynb\" target=\"_parent\"><img src=\"https://colab.research.google.com/assets/colab-badge.svg\" alt=\"Open In Colab\"/></a>"
      ]
    },
    {
      "cell_type": "markdown",
      "metadata": {
        "id": "wJ0mWfT8MjZY",
        "colab_type": "text"
      },
      "source": [
        "# **Variable**"
      ]
    },
    {
      "cell_type": "markdown",
      "metadata": {
        "id": "KhCiyqqsTNf9",
        "colab_type": "text"
      },
      "source": [
        "**Number variable**"
      ]
    },
    {
      "cell_type": "code",
      "metadata": {
        "id": "27uvTuU7J8R5",
        "colab_type": "code",
        "colab": {}
      },
      "source": [
        "x = 1\n",
        "y = 2\n",
        "z = x + y"
      ],
      "execution_count": 5,
      "outputs": []
    },
    {
      "cell_type": "markdown",
      "metadata": {
        "id": "M-1vKjdxTJw4",
        "colab_type": "text"
      },
      "source": [
        "**String varible**"
      ]
    },
    {
      "cell_type": "code",
      "metadata": {
        "id": "ukmulWlGTUIO",
        "colab_type": "code",
        "colab": {
          "base_uri": "https://localhost:8080/",
          "height": 35
        },
        "outputId": "d260faa3-35d9-435c-8499-fe009187d6e3"
      },
      "source": [
        "x = 'hello'\n",
        "y = 'world'\n",
        "z = x + ' ' + y\n",
        "z"
      ],
      "execution_count": 6,
      "outputs": [
        {
          "output_type": "execute_result",
          "data": {
            "application/vnd.google.colaboratory.intrinsic+json": {
              "type": "string"
            },
            "text/plain": [
              "'hello world'"
            ]
          },
          "metadata": {
            "tags": []
          },
          "execution_count": 6
        }
      ]
    },
    {
      "cell_type": "markdown",
      "metadata": {
        "id": "jSyTFKsiXx8u",
        "colab_type": "text"
      },
      "source": [
        "**Get value in string**"
      ]
    },
    {
      "cell_type": "code",
      "metadata": {
        "id": "1mNzlqV7X06o",
        "colab_type": "code",
        "colab": {
          "base_uri": "https://localhost:8080/",
          "height": 35
        },
        "outputId": "c1856fda-27a5-4fe4-e1e1-42db7cc0ae8e"
      },
      "source": [
        "z[0:5] # ตั้งแต่ตำแหน่ง 0 เอามา 5 ตัว (นับเริ่มจาก 0)"
      ],
      "execution_count": 18,
      "outputs": [
        {
          "output_type": "execute_result",
          "data": {
            "application/vnd.google.colaboratory.intrinsic+json": {
              "type": "string"
            },
            "text/plain": [
              "'hello'"
            ]
          },
          "metadata": {
            "tags": []
          },
          "execution_count": 18
        }
      ]
    },
    {
      "cell_type": "code",
      "metadata": {
        "id": "SvQugOKNYPdY",
        "colab_type": "code",
        "colab": {
          "base_uri": "https://localhost:8080/",
          "height": 35
        },
        "outputId": "cc65e33f-d2c5-475e-b471-b64bc8957e95"
      },
      "source": [
        "z[0:] # เอามาทุกตัวตั้งแต่ 0"
      ],
      "execution_count": 19,
      "outputs": [
        {
          "output_type": "execute_result",
          "data": {
            "application/vnd.google.colaboratory.intrinsic+json": {
              "type": "string"
            },
            "text/plain": [
              "'hello world'"
            ]
          },
          "metadata": {
            "tags": []
          },
          "execution_count": 19
        }
      ]
    },
    {
      "cell_type": "markdown",
      "metadata": {
        "colab_type": "text",
        "id": "c-EkFqFWWgy4"
      },
      "source": [
        "**List varible** // ดีกว่า array ตรงที่ value ไม่จำกัด type ให้ต้องเหมือนกัน"
      ]
    },
    {
      "cell_type": "code",
      "metadata": {
        "colab_type": "code",
        "id": "pBo8-1fUWgy7",
        "colab": {
          "base_uri": "https://localhost:8080/",
          "height": 34
        },
        "outputId": "fd027530-5e94-4a5f-b19a-543e5cdc93e2"
      },
      "source": [
        "x = [1,2,3,4,5]\n",
        "y = [1,'hello',1.3,x]\n",
        "y"
      ],
      "execution_count": 10,
      "outputs": [
        {
          "output_type": "execute_result",
          "data": {
            "text/plain": [
              "[1, 'hello', 1.3, [1, 2, 3, 4, 5]]"
            ]
          },
          "metadata": {
            "tags": []
          },
          "execution_count": 10
        }
      ]
    },
    {
      "cell_type": "markdown",
      "metadata": {
        "id": "R8QA95QBXSix",
        "colab_type": "text"
      },
      "source": [
        "**Get value in list**"
      ]
    },
    {
      "cell_type": "code",
      "metadata": {
        "id": "WPdcVYAiXJKX",
        "colab_type": "code",
        "colab": {
          "base_uri": "https://localhost:8080/",
          "height": 35
        },
        "outputId": "897dbd7a-530f-4aa2-e386-d8342a6b327f"
      },
      "source": [
        "y[0]\n",
        "y[1]"
      ],
      "execution_count": 12,
      "outputs": [
        {
          "output_type": "execute_result",
          "data": {
            "application/vnd.google.colaboratory.intrinsic+json": {
              "type": "string"
            },
            "text/plain": [
              "'hello'"
            ]
          },
          "metadata": {
            "tags": []
          },
          "execution_count": 12
        }
      ]
    }
  ]
}